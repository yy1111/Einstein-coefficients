{
 "cells": [
  {
   "cell_type": "markdown",
   "metadata": {},
   "source": [
    "This notebook computes Einstein B coefficients from the input Einstein A coefficient.  It then computes the rates between two levels linked by the coefficients and show the equilibration fo the two levels.\n",
    "\n",
    "To begin, we import the necessary libraries."
   ]
  },
  {
   "cell_type": "code",
   "execution_count": 1,
   "metadata": {},
   "outputs": [],
   "source": [
    "import matplotlib.pyplot as plt\n",
    "import numpy as np\n",
    "import scipy.constants as const"
   ]
  },
  {
   "cell_type": "markdown",
   "metadata": {},
   "source": [
    "Retrieve the key physical constants (all in MKS)."
   ]
  },
  {
   "cell_type": "code",
   "execution_count": 2,
   "metadata": {},
   "outputs": [],
   "source": [
    "h = const.h\n",
    "c = const.c\n",
    "kB = const.k\n",
    "eV_to_J = const.physical_constants['electron volt-joule relationship'][0]"
   ]
  },
  {
   "cell_type": "markdown",
   "metadata": {},
   "source": [
    "Input a two level system: g-multiplicity and E-energy level (in eV)."
   ]
  },
  {
   "cell_type": "code",
   "execution_count": 3,
   "metadata": {},
   "outputs": [],
   "source": [
    "g1 = 1\n",
    "g2 = 3\n",
    "E1 = 0\n",
    "E2 = 6700"
   ]
  },
  {
   "cell_type": "markdown",
   "metadata": {},
   "source": [
    "Input the spontaneous decay rate $A_{21}$ (per second)."
   ]
  },
  {
   "cell_type": "code",
   "execution_count": 4,
   "metadata": {},
   "outputs": [],
   "source": [
    "A21 = 4.57e+14"
   ]
  },
  {
   "cell_type": "markdown",
   "metadata": {},
   "source": [
    "Convert to MKS units."
   ]
  },
  {
   "cell_type": "code",
   "execution_count": 5,
   "metadata": {},
   "outputs": [],
   "source": [
    "E1 *= eV_to_J\n",
    "E2 *= eV_to_J"
   ]
  },
  {
   "cell_type": "markdown",
   "metadata": {},
   "source": [
    "Input the temperature of the system (in K)."
   ]
  },
  {
   "cell_type": "code",
   "execution_count": 6,
   "metadata": {},
   "outputs": [],
   "source": [
    "T = 1e8"
   ]
  },
  {
   "cell_type": "markdown",
   "metadata": {},
   "source": [
    "Calculate the frequency of photon that could make this transition."
   ]
  },
  {
   "cell_type": "code",
   "execution_count": 7,
   "metadata": {},
   "outputs": [],
   "source": [
    "nu = ( E2 - E1 )/h"
   ]
  },
  {
   "cell_type": "markdown",
   "metadata": {},
   "source": [
    "Calculate and print out the mean intensity."
   ]
  },
  {
   "cell_type": "code",
   "execution_count": 8,
   "metadata": {},
   "outputs": [
    {
     "name": "stdout",
     "output_type": "stream",
     "text": [
      "J = 53310.53370780987 Joules per meter squared per second per steradian per Hertz\n"
     ]
    }
   ],
   "source": [
    "J = ( ( 2*h*(nu**3)) / (c**2) )/(np.exp( (h*nu) / (kB*T) )-1)\n",
    "print('J = ' + str(J) + ' Joules per meter squared per second per steradian per Hertz')"
   ]
  },
  {
   "cell_type": "markdown",
   "metadata": {},
   "source": [
    "Calculate and print out the B-coefficients."
   ]
  },
  {
   "cell_type": "code",
   "execution_count": 9,
   "metadata": {},
   "outputs": [
    {
     "name": "stdout",
     "output_type": "stream",
     "text": [
      "B_{21} = 7289270654.848217 m^2 steradians / J seconds\n",
      "B_{12} = 21867811964.54465 m^2 steradians / J seconds\n"
     ]
    }
   ],
   "source": [
    "B21 = ((c**2) / (2*h*(nu**3))) * A21\n",
    "B12 = B21 * ( g2 / g1 )\n",
    "\n",
    "Jstr = ' m^2 steradians / J seconds'\n",
    "\n",
    "print('B_{21} = ' + str(B21) + Jstr)\n",
    "print('B_{12} = ' + str(B12) + Jstr)"
   ]
  },
  {
   "cell_type": "markdown",
   "metadata": {},
   "source": [
    "Calculate and print out the emission rate and absorption rate."
   ]
  },
  {
   "cell_type": "code",
   "execution_count": 10,
   "metadata": {},
   "outputs": [
    {
     "name": "stdout",
     "output_type": "stream",
     "text": [
      "Absorption rate: lambda_{12} = 1165784726851905.5 per second\n",
      "Total emission rate: lambda_{21} = 845594908950635.2 per second\n"
     ]
    }
   ],
   "source": [
    "lambda12 = B12 * J\n",
    "lambda21 = A21 + B21 * J\n",
    "\n",
    "print('Absorption rate: lambda_{12} = ' + str(lambda12) + ' per second')\n",
    "print('Total emission rate: lambda_{21} = ' + str(lambda21) + ' per second')"
   ]
  },
  {
   "cell_type": "markdown",
   "metadata": {},
   "source": [
    "Input the initial population probability of the two states."
   ]
  },
  {
   "cell_type": "code",
   "execution_count": 11,
   "metadata": {},
   "outputs": [],
   "source": [
    "x1_0 = 0\n",
    "x2_0 = 1"
   ]
  },
  {
   "cell_type": "markdown",
   "metadata": {},
   "source": [
    "Check the input probabilities."
   ]
  },
  {
   "cell_type": "code",
   "execution_count": 12,
   "metadata": {},
   "outputs": [],
   "source": [
    "assert(x1_0 + x2_0 == 1.0)"
   ]
  },
  {
   "cell_type": "markdown",
   "metadata": {},
   "source": [
    "Compute the time duration for the evolution of population in the two states."
   ]
  },
  {
   "cell_type": "code",
   "execution_count": 13,
   "metadata": {},
   "outputs": [],
   "source": [
    "lambda_eff = (lambda12 + lambda21)\n",
    "t = np.linspace(0, 10 / lambda_eff, 1000)"
   ]
  },
  {
   "cell_type": "markdown",
   "metadata": {},
   "source": [
    "Calculate the evolution of the population probabilities."
   ]
  },
  {
   "cell_type": "code",
   "execution_count": 14,
   "metadata": {},
   "outputs": [],
   "source": [
    "f = lambda_eff*t\n",
    "expf =  np.expm1(-f)+1\n",
    "x1 = x1_0 * expf + (lambda21/(lambda_eff))*(1-expf)\n",
    "x2 = x2_0 * expf + (lambda12/(lambda_eff))*(1-expf)"
   ]
  },
  {
   "cell_type": "markdown",
   "metadata": {},
   "source": [
    "Make a plot to show the evolution."
   ]
  },
  {
   "cell_type": "code",
   "execution_count": 15,
   "metadata": {},
   "outputs": [
    {
     "data": {
      "image/png": "[encoded data removed]",
      "text/plain": [
       "<Figure size 432x288 with 1 Axes>"
      ]
     },
     "metadata": {
      "needs_background": "light"
     },
     "output_type": "display_data"
    }
   ],
   "source": [
    "plt.rc('text', usetex=True)\n",
    "plt.rc('font', family='serif')\n",
    "plt.rcParams['font.size'] = 15\n",
    "\n",
    "plt.plot(t, x1, label=\"Level 1\" )\n",
    "plt.plot(t, x2, label=\"Level 2\" )\n",
    "\n",
    "plt.legend(loc='upper right', shadow=True)\n",
    "\n",
    "plt.xlabel( '$t\\ (s)$' )\n",
    "plt.ylabel('Probability')\n",
    "\n",
    "plt.show()"
   ]
  },
  {
   "cell_type": "code",
   "execution_count": null,
   "metadata": {},
   "outputs": [],
   "source": []
  }
 ],
 "metadata": {
  "kernelspec": {
   "display_name": "Python 3",
   "language": "python",
   "name": "python3"
  },
  "language_info": {
   "codemirror_mode": {
    "name": "ipython",
    "version": 3
   },
   "file_extension": ".py",
   "mimetype": "text/x-python",
   "name": "python",
   "nbconvert_exporter": "python",
   "pygments_lexer": "ipython3",
   "version": "3.7.4"
  }
 },
 "nbformat": 4,
 "nbformat_minor": 2
}
